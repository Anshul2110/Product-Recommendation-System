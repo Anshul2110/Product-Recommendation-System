{
 "cells": [
  {
   "cell_type": "code",
   "execution_count": 1,
   "id": "f0d5e2c1",
   "metadata": {},
   "outputs": [],
   "source": [
    "import pandas as pd\n",
    "import numpy as np\n",
    "import seaborn as sns\n",
    "import matplotlib.pyplot as plt\n",
    "from surprise import Dataset, Reader, SVD, KNNBasic, accuracy\n",
    "from surprise.model_selection import train_test_split, cross_validate"
   ]
  },
  {
   "cell_type": "code",
   "execution_count": 2,
   "id": "862a3f06",
   "metadata": {},
   "outputs": [
    {
     "data": {
      "text/html": [
       "<div>\n",
       "<style scoped>\n",
       "    .dataframe tbody tr th:only-of-type {\n",
       "        vertical-align: middle;\n",
       "    }\n",
       "\n",
       "    .dataframe tbody tr th {\n",
       "        vertical-align: top;\n",
       "    }\n",
       "\n",
       "    .dataframe thead th {\n",
       "        text-align: right;\n",
       "    }\n",
       "</style>\n",
       "<table border=\"1\" class=\"dataframe\">\n",
       "  <thead>\n",
       "    <tr style=\"text-align: right;\">\n",
       "      <th></th>\n",
       "      <th>userId</th>\n",
       "      <th>productId</th>\n",
       "      <th>Rating</th>\n",
       "      <th>timestamp</th>\n",
       "    </tr>\n",
       "  </thead>\n",
       "  <tbody>\n",
       "    <tr>\n",
       "      <th>0</th>\n",
       "      <td>A3LDPF5FMB782Z</td>\n",
       "      <td>1400501466</td>\n",
       "      <td>5.0</td>\n",
       "      <td>1336003200</td>\n",
       "    </tr>\n",
       "    <tr>\n",
       "      <th>1</th>\n",
       "      <td>A1A5KUIIIHFF4U</td>\n",
       "      <td>1400501466</td>\n",
       "      <td>1.0</td>\n",
       "      <td>1332547200</td>\n",
       "    </tr>\n",
       "    <tr>\n",
       "      <th>2</th>\n",
       "      <td>A2XIOXRRYX0KZY</td>\n",
       "      <td>1400501466</td>\n",
       "      <td>3.0</td>\n",
       "      <td>1371686400</td>\n",
       "    </tr>\n",
       "    <tr>\n",
       "      <th>3</th>\n",
       "      <td>AW3LX47IHPFRL</td>\n",
       "      <td>1400501466</td>\n",
       "      <td>5.0</td>\n",
       "      <td>1339804800</td>\n",
       "    </tr>\n",
       "    <tr>\n",
       "      <th>4</th>\n",
       "      <td>A1E3OB6QMBKRYZ</td>\n",
       "      <td>1400501466</td>\n",
       "      <td>1.0</td>\n",
       "      <td>1350086400</td>\n",
       "    </tr>\n",
       "  </tbody>\n",
       "</table>\n",
       "</div>"
      ],
      "text/plain": [
       "           userId   productId  Rating   timestamp\n",
       "0  A3LDPF5FMB782Z  1400501466     5.0  1336003200\n",
       "1  A1A5KUIIIHFF4U  1400501466     1.0  1332547200\n",
       "2  A2XIOXRRYX0KZY  1400501466     3.0  1371686400\n",
       "3   AW3LX47IHPFRL  1400501466     5.0  1339804800\n",
       "4  A1E3OB6QMBKRYZ  1400501466     1.0  1350086400"
      ]
     },
     "execution_count": 2,
     "metadata": {},
     "output_type": "execute_result"
    }
   ],
   "source": [
    "# Reading the processed data\n",
    "df = pd.read_csv('../Data/ratings_processed.csv')\n",
    "df.head()"
   ]
  },
  {
   "cell_type": "code",
   "execution_count": 3,
   "id": "7eda6cac",
   "metadata": {},
   "outputs": [],
   "source": [
    "# preparing data for collaborative fitlering models\n",
    "reader = Reader(rating_scale=(1, 5))\n",
    "data = Dataset.load_from_df(df[[\"userId\", \"productId\", \"Rating\"]], reader)\n",
    "\n",
    "trainset, testset = train_test_split(data, test_size=0.2, random_state=42)"
   ]
  },
  {
   "cell_type": "code",
   "execution_count": 4,
   "id": "f4b3a7f4",
   "metadata": {},
   "outputs": [
    {
     "name": "stdout",
     "output_type": "stream",
     "text": [
      "SVD Performance:\n",
      "RMSE: 0.8894\n",
      "MAE:  0.6531\n"
     ]
    },
    {
     "data": {
      "text/plain": [
       "0.6531219485701953"
      ]
     },
     "execution_count": 4,
     "metadata": {},
     "output_type": "execute_result"
    }
   ],
   "source": [
    "# SVD (Matrix Factorization)\n",
    "svd = SVD()\n",
    "svd.fit(trainset)\n",
    "pred_svd = svd.test(testset)\n",
    "print(\"SVD Performance:\")\n",
    "accuracy.rmse(pred_svd)\n",
    "accuracy.mae(pred_svd)"
   ]
  },
  {
   "cell_type": "code",
   "execution_count": 5,
   "id": "3ff7edcd",
   "metadata": {},
   "outputs": [
    {
     "name": "stdout",
     "output_type": "stream",
     "text": [
      "Computing the cosine similarity matrix...\n",
      "Done computing similarity matrix.\n",
      "Item-Based KNN Performance:\n",
      "RMSE: 0.9950\n",
      "MAE:  0.7038\n"
     ]
    },
    {
     "data": {
      "text/plain": [
       "0.7038361558583717"
      ]
     },
     "execution_count": 5,
     "metadata": {},
     "output_type": "execute_result"
    }
   ],
   "source": [
    "## Item-Based KNN\n",
    "sim_options = {\"name\": \"cosine\", \"user_based\": False}\n",
    "knn_item = KNNBasic(sim_options=sim_options)\n",
    "knn_item.fit(trainset)\n",
    "pred_knn_item = knn_item.test(testset)\n",
    "print(\"Item-Based KNN Performance:\")\n",
    "accuracy.rmse(pred_knn_item)\n",
    "accuracy.mae(pred_knn_item)"
   ]
  },
  {
   "cell_type": "code",
   "execution_count": 6,
   "id": "a4240b4b",
   "metadata": {},
   "outputs": [
    {
     "name": "stdout",
     "output_type": "stream",
     "text": [
      "Computing the cosine similarity matrix...\n",
      "Done computing similarity matrix.\n",
      "User-Based KNN Performance:\n",
      "RMSE: 1.0012\n",
      "MAE:  0.7094\n"
     ]
    },
    {
     "data": {
      "text/plain": [
       "0.7093680587279182"
      ]
     },
     "execution_count": 6,
     "metadata": {},
     "output_type": "execute_result"
    }
   ],
   "source": [
    "## User-Based KNN\n",
    "sim_options = {\"name\": \"cosine\", \"user_based\": True}\n",
    "knn_user = KNNBasic(sim_options=sim_options)\n",
    "knn_user.fit(trainset)\n",
    "pred_knn_user = knn_user.test(testset)\n",
    "print(\"User-Based KNN Performance:\")\n",
    "accuracy.rmse(pred_knn_user)\n",
    "accuracy.mae(pred_knn_user)"
   ]
  },
  {
   "cell_type": "code",
   "execution_count": 10,
   "id": "777f6894",
   "metadata": {},
   "outputs": [
    {
     "data": {
      "image/png": "[encoded data removed]",
      "text/plain": [
       "<Figure size 640x480 with 1 Axes>"
      ]
     },
     "metadata": {},
     "output_type": "display_data"
    }
   ],
   "source": [
    "# Comparing models\n",
    "results = {\n",
    "    \"SVD_RMSE\": accuracy.rmse(pred_svd, verbose=False),\n",
    "    \"ItemKNN_RMSE\": accuracy.rmse(pred_knn_item, verbose=False),\n",
    "    \"UserKNN_RMSE\": accuracy.rmse(pred_knn_user, verbose=False)\n",
    "}\n",
    "\n",
    "plt.bar(results.keys(), results.values())\n",
    "plt.title(\"Model RMSE Comparison\")\n",
    "plt.ylabel(\"RMSE\")\n",
    "plt.show()"
   ]
  },
  {
   "cell_type": "code",
   "execution_count": 7,
   "id": "dbaba87d",
   "metadata": {},
   "outputs": [],
   "source": [
    "# Hybrid Model (SVD + User-Based KNN)\n",
    "def hybrid_recommend(user_id, top_n=5, alpha=0.7):\n",
    "    \"\"\"\n",
    "    Hybrid recommender combining SVD + Item-KNN\n",
    "    alpha = weight for SVD (0-1), rest for KNN\n",
    "    \"\"\"\n",
    "    # Get all product IDs\n",
    "    all_products = df[\"productId\"].unique()\n",
    "    user_rated = df[df[\"userId\"] == user_id][\"productId\"].unique()\n",
    "\n",
    "    scores = []\n",
    "    for prod in all_products:\n",
    "        if prod in user_rated:\n",
    "            continue\n",
    "        # Predict with SVD and KNN\n",
    "        pred_svd = svd.predict(user_id, prod).est\n",
    "        pred_knn = knn_item.predict(user_id, prod).est\n",
    "        # Weighted score\n",
    "        final_score = alpha * pred_svd + (1 - alpha) * pred_knn\n",
    "        scores.append((prod, final_score))\n",
    "\n",
    "    # Sort by score\n",
    "    scores = sorted(scores, key=lambda x: x[1], reverse=True)[:top_n]\n",
    "    return scores"
   ]
  },
  {
   "cell_type": "code",
   "execution_count": 8,
   "id": "4ee07d5d",
   "metadata": {},
   "outputs": [
    {
     "name": "stdout",
     "output_type": "stream",
     "text": [
      "Recommendations for User A3LDPF5FMB782Z:\n",
      "[('B00D6XW62I', 4.996206007948782), ('B00006HSYC', 4.985941539286498), ('B0000511U7', 4.961933462429488), ('B00316263Y', 4.934998210572301), ('B002QUZM0U', 4.9312784178034), ('B002NO7PWC', 4.915272322706539), ('B003WV5DJC', 4.906793186108618), ('B001BTCSI6', 4.901140495428676), ('B008LTBITY', 4.889390536240981), ('B00B50CEH6', 4.877532650305024)]\n"
     ]
    }
   ],
   "source": [
    "# Sample prediction\n",
    "sample_user = df[\"userId\"].iloc[0]\n",
    "print(f\"Recommendations for User {sample_user}:\")\n",
    "print(hybrid_recommend(sample_user, top_n=10))\n"
   ]
  },
  {
   "cell_type": "code",
   "execution_count": 9,
   "id": "cb9a2004",
   "metadata": {},
   "outputs": [
    {
     "name": "stdout",
     "output_type": "stream",
     "text": [
      "Top 10 Popular Products:\n",
      " productId\n",
      "B00LGQ6HL8    5.0\n",
      "B003DZJQQI    5.0\n",
      "B005FDXF2C    5.0\n",
      "B00I6CVPVC    5.0\n",
      "B00B9KOCYA    5.0\n",
      "B003CK10DG    5.0\n",
      "B003B41XYO    5.0\n",
      "B0007WK8KS    5.0\n",
      "B0084FM5JC    5.0\n",
      "B005GI2VMG    5.0\n",
      "Name: Rating, dtype: float64\n"
     ]
    }
   ],
   "source": [
    "# Popularity based recommendation for cold start\n",
    "popularity = df.groupby(\"productId\")[\"Rating\"].mean().sort_values(ascending=False).head(10)\n",
    "print(\"Top 10 Popular Products:\\n\", popularity)"
   ]
  }
 ],
 "metadata": {
  "kernelspec": {
   "display_name": "Python 3",
   "language": "python",
   "name": "python3"
  },
  "language_info": {
   "codemirror_mode": {
    "name": "ipython",
    "version": 3
   },
   "file_extension": ".py",
   "mimetype": "text/x-python",
   "name": "python",
   "nbconvert_exporter": "python",
   "pygments_lexer": "ipython3",
   "version": "3.12.9"
  }
 },
 "nbformat": 4,
 "nbformat_minor": 5
}
