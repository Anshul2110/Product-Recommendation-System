{
 "cells": [
  {
   "cell_type": "code",
   "execution_count": 2,
   "id": "85ca1403",
   "metadata": {},
   "outputs": [],
   "source": [
    "import pandas as pd\n",
    "import numpy as np\n",
    "import seaborn as sns\n",
    "import matplotlib.pyplot as plt\n",
    "from surprise import Dataset, Reader, SVD, KNNBasic, accuracy\n",
    "from surprise.model_selection import train_test_split, cross_validate"
   ]
  },
  {
   "cell_type": "markdown",
   "id": "b46b4d7c",
   "metadata": {},
   "source": [
    "# Exploratory Data Analysis"
   ]
  },
  {
   "cell_type": "code",
   "execution_count": 3,
   "id": "dd11e87b",
   "metadata": {},
   "outputs": [],
   "source": [
    "# Reading processed data\n",
    "df = pd.read_csv('../Data/ratings_processed.csv')"
   ]
  },
  {
   "cell_type": "code",
   "execution_count": 4,
   "id": "e90a93d5",
   "metadata": {},
   "outputs": [
    {
     "data": {
      "text/html": [
       "<div>\n",
       "<style scoped>\n",
       "    .dataframe tbody tr th:only-of-type {\n",
       "        vertical-align: middle;\n",
       "    }\n",
       "\n",
       "    .dataframe tbody tr th {\n",
       "        vertical-align: top;\n",
       "    }\n",
       "\n",
       "    .dataframe thead th {\n",
       "        text-align: right;\n",
       "    }\n",
       "</style>\n",
       "<table border=\"1\" class=\"dataframe\">\n",
       "  <thead>\n",
       "    <tr style=\"text-align: right;\">\n",
       "      <th></th>\n",
       "      <th>userId</th>\n",
       "      <th>productId</th>\n",
       "      <th>Rating</th>\n",
       "      <th>timestamp</th>\n",
       "    </tr>\n",
       "  </thead>\n",
       "  <tbody>\n",
       "    <tr>\n",
       "      <th>0</th>\n",
       "      <td>A3LDPF5FMB782Z</td>\n",
       "      <td>1400501466</td>\n",
       "      <td>5.0</td>\n",
       "      <td>1336003200</td>\n",
       "    </tr>\n",
       "    <tr>\n",
       "      <th>1</th>\n",
       "      <td>A1A5KUIIIHFF4U</td>\n",
       "      <td>1400501466</td>\n",
       "      <td>1.0</td>\n",
       "      <td>1332547200</td>\n",
       "    </tr>\n",
       "    <tr>\n",
       "      <th>2</th>\n",
       "      <td>A2XIOXRRYX0KZY</td>\n",
       "      <td>1400501466</td>\n",
       "      <td>3.0</td>\n",
       "      <td>1371686400</td>\n",
       "    </tr>\n",
       "    <tr>\n",
       "      <th>3</th>\n",
       "      <td>AW3LX47IHPFRL</td>\n",
       "      <td>1400501466</td>\n",
       "      <td>5.0</td>\n",
       "      <td>1339804800</td>\n",
       "    </tr>\n",
       "    <tr>\n",
       "      <th>4</th>\n",
       "      <td>A1E3OB6QMBKRYZ</td>\n",
       "      <td>1400501466</td>\n",
       "      <td>1.0</td>\n",
       "      <td>1350086400</td>\n",
       "    </tr>\n",
       "  </tbody>\n",
       "</table>\n",
       "</div>"
      ],
      "text/plain": [
       "           userId   productId  Rating   timestamp\n",
       "0  A3LDPF5FMB782Z  1400501466     5.0  1336003200\n",
       "1  A1A5KUIIIHFF4U  1400501466     1.0  1332547200\n",
       "2  A2XIOXRRYX0KZY  1400501466     3.0  1371686400\n",
       "3   AW3LX47IHPFRL  1400501466     5.0  1339804800\n",
       "4  A1E3OB6QMBKRYZ  1400501466     1.0  1350086400"
      ]
     },
     "execution_count": 4,
     "metadata": {},
     "output_type": "execute_result"
    }
   ],
   "source": [
    "df.head()"
   ]
  },
  {
   "cell_type": "code",
   "execution_count": 5,
   "id": "8cf510e1",
   "metadata": {},
   "outputs": [
    {
     "name": "stdout",
     "output_type": "stream",
     "text": [
      "<class 'pandas.core.frame.DataFrame'>\n",
      "RangeIndex: 65290 entries, 0 to 65289\n",
      "Data columns (total 4 columns):\n",
      " #   Column     Non-Null Count  Dtype  \n",
      "---  ------     --------------  -----  \n",
      " 0   userId     65290 non-null  object \n",
      " 1   productId  65290 non-null  object \n",
      " 2   Rating     65290 non-null  float64\n",
      " 3   timestamp  65290 non-null  int64  \n",
      "dtypes: float64(1), int64(1), object(2)\n",
      "memory usage: 2.0+ MB\n"
     ]
    }
   ],
   "source": [
    "df.info()"
   ]
  },
  {
   "cell_type": "code",
   "execution_count": 6,
   "id": "2b56c40b",
   "metadata": {},
   "outputs": [],
   "source": [
    "# removing timestamp column\n",
    "df.drop('timestamp', axis=1, inplace=True)"
   ]
  },
  {
   "cell_type": "code",
   "execution_count": 7,
   "id": "a2a97cd0",
   "metadata": {},
   "outputs": [
    {
     "data": {
      "text/html": [
       "<div>\n",
       "<style scoped>\n",
       "    .dataframe tbody tr th:only-of-type {\n",
       "        vertical-align: middle;\n",
       "    }\n",
       "\n",
       "    .dataframe tbody tr th {\n",
       "        vertical-align: top;\n",
       "    }\n",
       "\n",
       "    .dataframe thead th {\n",
       "        text-align: right;\n",
       "    }\n",
       "</style>\n",
       "<table border=\"1\" class=\"dataframe\">\n",
       "  <thead>\n",
       "    <tr style=\"text-align: right;\">\n",
       "      <th></th>\n",
       "      <th>Rating</th>\n",
       "    </tr>\n",
       "  </thead>\n",
       "  <tbody>\n",
       "    <tr>\n",
       "      <th>count</th>\n",
       "      <td>65290.000000</td>\n",
       "    </tr>\n",
       "    <tr>\n",
       "      <th>mean</th>\n",
       "      <td>4.294808</td>\n",
       "    </tr>\n",
       "    <tr>\n",
       "      <th>std</th>\n",
       "      <td>0.988915</td>\n",
       "    </tr>\n",
       "    <tr>\n",
       "      <th>min</th>\n",
       "      <td>1.000000</td>\n",
       "    </tr>\n",
       "    <tr>\n",
       "      <th>25%</th>\n",
       "      <td>4.000000</td>\n",
       "    </tr>\n",
       "    <tr>\n",
       "      <th>50%</th>\n",
       "      <td>5.000000</td>\n",
       "    </tr>\n",
       "    <tr>\n",
       "      <th>75%</th>\n",
       "      <td>5.000000</td>\n",
       "    </tr>\n",
       "    <tr>\n",
       "      <th>max</th>\n",
       "      <td>5.000000</td>\n",
       "    </tr>\n",
       "  </tbody>\n",
       "</table>\n",
       "</div>"
      ],
      "text/plain": [
       "             Rating\n",
       "count  65290.000000\n",
       "mean       4.294808\n",
       "std        0.988915\n",
       "min        1.000000\n",
       "25%        4.000000\n",
       "50%        5.000000\n",
       "75%        5.000000\n",
       "max        5.000000"
      ]
     },
     "execution_count": 7,
     "metadata": {},
     "output_type": "execute_result"
    }
   ],
   "source": [
    "# checking summary statistics\n",
    "df.describe()"
   ]
  },
  {
   "cell_type": "code",
   "execution_count": 8,
   "id": "5db3c108",
   "metadata": {},
   "outputs": [
    {
     "data": {
      "image/png": "[encoded data removed]",
      "text/plain": [
       "<Figure size 640x480 with 1 Axes>"
      ]
     },
     "metadata": {},
     "output_type": "display_data"
    }
   ],
   "source": [
    "# Visualizing the distribution of ratings\n",
    "sns.histplot(df['Rating'], bins=10, kde=False)\n",
    "plt.title(\"Ratings distribution\")\n",
    "plt.show()"
   ]
  },
  {
   "cell_type": "code",
   "execution_count": 10,
   "id": "87b56b80",
   "metadata": {},
   "outputs": [
    {
     "name": "stdout",
     "output_type": "stream",
     "text": [
      "Number of unique users: 1540\n",
      "Number of unique products: 5689\n"
     ]
    }
   ],
   "source": [
    "# number of unique users and products\n",
    "n_users = df['userId'].nunique()\n",
    "n_products = df['productId'].nunique()\n",
    "print(f'Number of unique users: {n_users}') \n",
    "print(f'Number of unique products: {n_products}')"
   ]
  },
  {
   "cell_type": "code",
   "execution_count": 11,
   "id": "ed12312c",
   "metadata": {},
   "outputs": [
    {
     "name": "stdout",
     "output_type": "stream",
     "text": [
      "Top 5 most rated products: productId\n",
      "B0088CJT4U    206\n",
      "B003ES5ZUU    184\n",
      "B000N99BBC    167\n",
      "B007WTAJTO    164\n",
      "B00829TIEK    149\n",
      "Name: count, dtype: int64\n",
      "Top 5 most active users: userId\n",
      "ADLVFFE4VBT8      295\n",
      "A3OXHLG6DIBRW8    230\n",
      "A1ODOGXEYECQQ8    217\n",
      "A36K2N527TXXJN    212\n",
      "A25C2M3QF9G7OQ    203\n",
      "Name: count, dtype: int64\n"
     ]
    }
   ],
   "source": [
    "# top 5 most rated products\n",
    "top_5_products = df['productId'].value_counts().head(5)\n",
    "print(\"Top 5 most rated products:\", top_5_products)\n",
    "\n",
    "# top 5 most active users\n",
    "top_5_users = df['userId'].value_counts().head(5)\n",
    "print(\"Top 5 most active users:\", top_5_users)"
   ]
  },
  {
   "cell_type": "code",
   "execution_count": 12,
   "id": "240d10c1",
   "metadata": {},
   "outputs": [
    {
     "name": "stdout",
     "output_type": "stream",
     "text": [
      "Least active users and their ratings:\n",
      "User A16CVJUQOB6GIB ratings:\n",
      "              userId   productId  Rating\n",
      "536   A16CVJUQOB6GIB  B000051299     5.0\n",
      "8139  A16CVJUQOB6GIB  B000OGX5AM     5.0\n",
      "\n",
      "User A2BGZ52M908MJY ratings:\n",
      "               userId   productId  Rating\n",
      "406    A2BGZ52M908MJY  B00004ZCA5     5.0\n",
      "32240  A2BGZ52M908MJY  B004HO59M4     5.0\n",
      "\n",
      "User A3DL29NLZ7SXXG ratings:\n",
      "               userId   productId  Rating\n",
      "13570  A3DL29NLZ7SXXG  B001EM9JXC     5.0\n",
      "\n",
      "User AP2NZAALUQKF5 ratings:\n",
      "             userId   productId  Rating\n",
      "7053  AP2NZAALUQKF5  B000K4V4X8     1.0\n",
      "\n",
      "User A3MV1KKHX51FYT ratings:\n",
      "               userId   productId  Rating\n",
      "10645  A3MV1KKHX51FYT  B0011ZH0BK     5.0\n",
      "\n"
     ]
    }
   ],
   "source": [
    "# finding least active users and their given ratings\n",
    "least_active_users = df['userId'].value_counts().tail(5)\n",
    "print(\"Least active users and their ratings:\")\n",
    "for user in least_active_users.index:\n",
    "    user_ratings = df[df['userId'] == user]\n",
    "    print(f\"User {user} ratings:\\n{user_ratings}\\n\")\n",
    "    "
   ]
  },
  {
   "cell_type": "code",
   "execution_count": 14,
   "id": "381b1e0b",
   "metadata": {},
   "outputs": [
    {
     "name": "stdout",
     "output_type": "stream",
     "text": [
      "Least rated products and their ratings:\n",
      "Product B00368CDH6 ratings:\n",
      "               userId   productId  Rating\n",
      "23747  A3V5F050GVZ56Q  B00368CDH6     5.0\n",
      "23748   AOEAD7DPLZE53  B00368CDH6     5.0\n",
      "23749  A3QU3O79AGNWCY  B00368CDH6     3.0\n",
      "23750  A3DGJMO6VPG6FJ  B00368CDH6     4.0\n",
      "23751  A1YEPFLLH42OU1  B00368CDH6     5.0\n",
      "\n",
      "Product B0036AZA6A ratings:\n",
      "               userId   productId  Rating\n",
      "23776  A16C19G0I2DE8S  B0036AZA6A     5.0\n",
      "23777  A1L64KDYO5BOJA  B0036AZA6A     5.0\n",
      "23778  A3R1GJY2MY8041  B0036AZA6A     5.0\n",
      "23779  A1CMD08Z49PGKQ  B0036AZA6A     5.0\n",
      "23780  A1901NTE8LFJF6  B0036AZA6A     4.0\n",
      "\n",
      "Product B0036E8V08 ratings:\n",
      "               userId   productId  Rating\n",
      "23781  A2PZXXPGLXXKZU  B0036E8V08     4.0\n",
      "23782   APGQTZZ4ZFPHO  B0036E8V08     4.0\n",
      "23783  A2DF62DP20RIXF  B0036E8V08     4.0\n",
      "23784  A21GW4L8FO307V  B0036E8V08     5.0\n",
      "23785  A23E9QQHJLNGUI  B0036E8V08     5.0\n",
      "\n",
      "Product B0036QL1JY ratings:\n",
      "               userId   productId  Rating\n",
      "23847   ACJT8MUC0LRF0  B0036QL1JY     5.0\n",
      "23848  A3CJ7MHAS9IMAM  B0036QL1JY     5.0\n",
      "23849  A2LB4FLRZG6CUV  B0036QL1JY     5.0\n",
      "23850  A3INN916E4VION  B0036QL1JY     5.0\n",
      "23851  A28621TSIR5EOG  B0036QL1JY     5.0\n",
      "\n",
      "Product B00LGQ6HL8 ratings:\n",
      "               userId   productId  Rating\n",
      "65285  A34BZM6S9L7QI4  B00LGQ6HL8     5.0\n",
      "65286  A1G650TTTHEAL5  B00LGQ6HL8     5.0\n",
      "65287  A25C2M3QF9G7OQ  B00LGQ6HL8     5.0\n",
      "65288   A1E1LEVQ9VQNK  B00LGQ6HL8     5.0\n",
      "65289  A2NYK9KWFMJV4Y  B00LGQ6HL8     5.0\n",
      "\n"
     ]
    }
   ],
   "source": [
    "# finding least rated products and their ratings\n",
    "least_rated_products = df['productId'].value_counts().tail(5)\n",
    "print(\"Least rated products and their ratings:\")\n",
    "for product in least_rated_products.index:\n",
    "    product_ratings = df[df['productId'] == product]\n",
    "    print(f\"Product {product} ratings:\\n{product_ratings}\\n\")"
   ]
  },
  {
   "cell_type": "code",
   "execution_count": 16,
   "id": "17e9c1be",
   "metadata": {},
   "outputs": [
    {
     "data": {
      "text/plain": [
       "productId\n",
       "B00LGQ6HL8    5.000000\n",
       "B003DZJQQI    5.000000\n",
       "B005FDXF2C    5.000000\n",
       "B00I6CVPVC    5.000000\n",
       "B00B9KOCYA    5.000000\n",
       "                ...   \n",
       "B003O2RVGM    1.833333\n",
       "B000ND75C0    1.833333\n",
       "B007C0Y7RI    1.625000\n",
       "B004OBUFYW    1.400000\n",
       "B000UF3FT8    1.375000\n",
       "Name: Rating, Length: 5689, dtype: float64"
      ]
     },
     "execution_count": 16,
     "metadata": {},
     "output_type": "execute_result"
    }
   ],
   "source": [
    "# finding average rating per product\n",
    "average_ratings = df.groupby('productId')['Rating'].mean().sort_values(ascending=False)\n",
    "average_ratings"
   ]
  },
  {
   "cell_type": "code",
   "execution_count": 18,
   "id": "6d624b28",
   "metadata": {},
   "outputs": [
    {
     "data": {
      "image/png": "[encoded data removed]",
      "text/plain": [
       "<Figure size 640x480 with 1 Axes>"
      ]
     },
     "metadata": {},
     "output_type": "display_data"
    }
   ],
   "source": [
    "# visualizing average ratings distribution\n",
    "sns.histplot(average_ratings, bins=10, kde=False)\n",
    "plt.title(\"Average Ratings distribution\")\n",
    "plt.show()\n"
   ]
  }
 ],
 "metadata": {
  "kernelspec": {
   "display_name": "Python 3",
   "language": "python",
   "name": "python3"
  },
  "language_info": {
   "codemirror_mode": {
    "name": "ipython",
    "version": 3
   },
   "file_extension": ".py",
   "mimetype": "text/x-python",
   "name": "python",
   "nbconvert_exporter": "python",
   "pygments_lexer": "ipython3",
   "version": "3.12.9"
  }
 },
 "nbformat": 4,
 "nbformat_minor": 5
}
